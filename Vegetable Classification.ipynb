{
 "cells": [
  {
   "cell_type": "code",
   "execution_count": null,
   "id": "0d85d181",
   "metadata": {
    "vscode": {
     "languageId": "powershell"
    }
   },
   "outputs": [],
   "source": [
    "pip install opencv-python tensorflow"
   ]
  },
  {
   "cell_type": "code",
   "execution_count": null,
   "id": "a39f8a70",
   "metadata": {},
   "outputs": [],
   "source": [
    "import cv2\n",
    "import numpy as np\n",
    "from keras.models import load_model\n",
    "\n",
    "# 載入已訓練好的模型\n",
    "model = load_model('./ResNet50V2.h5')  # 請將your_model.h5替換為你的模型檔案名稱及路徑\n",
    "\n",
    "# 定義類別標籤\n",
    "class_labels = ['Bean', 'Bitter_Gourd', 'Bottle_Gourd', 'Brinjal', 'Broccoli', 'Cabbage', 'Capsicum', 'Carrot', 'Cauliflower', 'Cucumber', 'Papaya', 'Potato', 'Pumpkin', 'Radish', 'Tomato']\n",
    "\n",
    "# 初始化webcam\n",
    "cap = cv2.VideoCapture(0)\n",
    "\n",
    "while True:\n",
    "    # 讀取影像幀\n",
    "    ret, frame = cap.read()\n",
    "\n",
    "    # 預處理影像\n",
    "    frame = cv2.resize(frame, (256, 256)) \n",
    "    fram1 = frame\n",
    "    frame = frame.astype('float32')\n",
    "    frame /= 255.0\n",
    "    frame = np.expand_dims(frame, axis=0)\n",
    "\n",
    "    threshold = 0.75 # set a threshold value\n",
    "\n",
    "    # 進行預測\n",
    "    prediction = model.predict(frame)\n",
    "    max_prob = np.max(prediction)\n",
    "    class_index = np.argmax(prediction)\n",
    "    if max_prob > threshold:\n",
    "        class_label = class_labels[class_index]\n",
    "    else:\n",
    "        class_label = \"unknown\"\n",
    "    \n",
    "    print(prediction)\n",
    "\n",
    "    # 在畫面上顯示預測結果\n",
    "    cv2.putText(fram1, class_label, (10, 30), cv2.FONT_HERSHEY_SIMPLEX, 1, (0, 255, 0), 2)\n",
    "    cv2.imshow('Webcam', fram1)\n",
    "    #print(class_label)\n",
    "\n",
    "\n",
    "    # 按下 'q' 鍵結束程式\n",
    "    if cv2.waitKey(1) & 0xFF == ord('q'):\n",
    "        break\n",
    "\n",
    "# 釋放資源\n",
    "cap.release()\n",
    "cv2.destroyAllWindows()\n"
   ]
  }
 ],
 "metadata": {
  "kernelspec": {
   "display_name": "test",
   "language": "python",
   "name": "python3"
  },
  "language_info": {
   "codemirror_mode": {
    "name": "ipython",
    "version": 3
   },
   "file_extension": ".py",
   "mimetype": "text/x-python",
   "name": "python",
   "nbconvert_exporter": "python",
   "pygments_lexer": "ipython3",
   "version": "3.10.9"
  }
 },
 "nbformat": 4,
 "nbformat_minor": 5
}
